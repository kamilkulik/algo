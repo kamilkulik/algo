{
 "cells": [
  {
   "cell_type": "code",
   "execution_count": 3,
   "metadata": {},
   "outputs": [
    {
     "data": {
      "text/plain": [
       "3"
      ]
     },
     "execution_count": 3,
     "metadata": {},
     "output_type": "execute_result"
    }
   ],
   "source": [
    "# count 1s in a binary representation of a number\n",
    "\n",
    "def count_bits(x: int) -> int:\n",
    "    bit_num = 0\n",
    "    while x:\n",
    "        bit_num += x & 1\n",
    "        x >>= 1\n",
    "    return bit_num\n",
    "\n",
    "count_bits(14)"
   ]
  }
 ],
 "metadata": {
  "interpreter": {
   "hash": "33be5a6592ff0e18b6588b627a6e2b14b7285c75cd5531fae273afbadc94534e"
  },
  "kernelspec": {
   "display_name": "Python 3.9.6 ('.venv': venv)",
   "language": "python",
   "name": "python3"
  },
  "language_info": {
   "codemirror_mode": {
    "name": "ipython",
    "version": 3
   },
   "file_extension": ".py",
   "mimetype": "text/x-python",
   "name": "python",
   "nbconvert_exporter": "python",
   "pygments_lexer": "ipython3",
   "version": "3.9.6"
  },
  "orig_nbformat": 4
 },
 "nbformat": 4,
 "nbformat_minor": 2
}
