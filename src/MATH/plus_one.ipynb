{
 "cells": [
  {
   "cell_type": "code",
   "execution_count": 4,
   "metadata": {},
   "outputs": [
    {
     "name": "stdout",
     "output_type": "stream",
     "text": [
      "1\n"
     ]
    }
   ],
   "source": [
    "from typing import List\n",
    "\n",
    "def construct_int(digits: List[int]) -> int:\n",
    "    int = 0\n",
    "    for factor in reversed(range(len(digits))):\n",
    "        int += abs(digits[len(digits) - 1 - factor]) * 10 ** factor\n",
    "    return -int if digits[0] < 0 else int\n",
    "\n",
    "print(construct_int([1]))"
   ]
  },
  {
   "cell_type": "code",
   "execution_count": 5,
   "metadata": {},
   "outputs": [
    {
     "name": "stdout",
     "output_type": "stream",
     "text": [
      "[-1, 2, 3]\n"
     ]
    }
   ],
   "source": [
    "from collections import deque\n",
    "\n",
    "def get_digits(int: int) -> List[int]:\n",
    "    output = deque([])\n",
    "    num = abs(int)\n",
    "    \n",
    "    while num:\n",
    "        digit = num % 10\n",
    "        output.appendleft(digit)\n",
    "        num //= 10\n",
    "    \n",
    "    if int < 0: output[0] *= -1\n",
    "    return  list(output)\n",
    "    \n",
    "print(get_digits(-123))"
   ]
  },
  {
   "cell_type": "code",
   "execution_count": 6,
   "metadata": {},
   "outputs": [
    {
     "name": "stdout",
     "output_type": "stream",
     "text": [
      "[9, 0, 0, 0]\n",
      "[-9]\n"
     ]
    }
   ],
   "source": [
    "from typing import List\n",
    "\n",
    "def plus_one(digits: List[int]) -> List[int]:\n",
    "    return get_digits(construct_int(digits) + 1)\n",
    "\n",
    "print(plus_one([8, 9, 9, 9]))\n",
    "print(plus_one([-10]))"
   ]
  }
 ],
 "metadata": {
  "interpreter": {
   "hash": "aee8b7b246df8f9039afb4144a1f6fd8d2ca17a180786b69acc140d282b71a49"
  },
  "kernelspec": {
   "display_name": "Python 3.10.4 64-bit",
   "language": "python",
   "name": "python3"
  },
  "language_info": {
   "codemirror_mode": {
    "name": "ipython",
    "version": 3
   },
   "file_extension": ".py",
   "mimetype": "text/x-python",
   "name": "python",
   "nbconvert_exporter": "python",
   "pygments_lexer": "ipython3",
   "version": "3.10.4"
  },
  "orig_nbformat": 4
 },
 "nbformat": 4,
 "nbformat_minor": 2
}
