{
 "cells": [
  {
   "cell_type": "code",
   "execution_count": null,
   "metadata": {},
   "outputs": [],
   "source": [
    "from typing import List\n",
    "\n",
    "class Solution:\n",
    "    def isValidSudoku(self, board: List[List[str]]) -> bool:\n",
    "        # row scan\n",
    "        for i in range(len(board)):\n",
    "            unique_nums = [0] * 10\n",
    "            for j, col in enumerate(board[i]):\n",
    "                if board[i][j] != \".\":\n",
    "                    if unique_nums[int(col)] != 0:\n",
    "                        return False\n",
    "                    else:\n",
    "                        unique_nums[int(col)] = 1\n",
    "        \n",
    "        # col scan\n",
    "        for i in range(len(board)):\n",
    "            unique_nums = [0] * 10\n",
    "            for j in range(len(board[i])):\n",
    "                if board[j][i] != \".\":\n",
    "                    if unique_nums[int(board[j][i])] != 0:\n",
    "                        return False\n",
    "                    else:\n",
    "                        unique_nums[int(board[j][i])] = 1\n",
    "                \n",
    "        # sub-box scan\n",
    "        subboxes = [0, 3, 6]\n",
    "        for hor_subbox in subboxes:\n",
    "            for ver_subbox in subboxes:\n",
    "                unique_nums = [0] * 10\n",
    "                for row in range(hor_subbox, hor_subbox + 3):\n",
    "                    for col in range(ver_subbox, ver_subbox + 3):\n",
    "                        if board[row][col] != \".\":\n",
    "                            if unique_nums[int(board[row][col])] != 0:\n",
    "                                return False\n",
    "                            else:\n",
    "                                unique_nums[int(board[row][col])] = 1\n",
    "                           \n",
    "        return True\n",
    "\n",
    "test_input = [[\"5\",\"3\",\".\",\".\",\"7\",\".\",\".\",\".\",\".\"],[\"6\",\".\",\".\",\"1\",\"9\",\"5\",\".\",\".\",\".\"],[\".\",\"9\",\"8\",\".\",\".\",\".\",\".\",\"6\",\".\"],[\"8\",\".\",\".\",\".\",\"6\",\".\",\".\",\".\",\"3\"],[\"4\",\".\",\".\",\"8\",\".\",\"3\",\".\",\".\",\"1\"],[\"7\",\".\",\".\",\".\",\"2\",\".\",\".\",\".\",\"6\"],[\".\",\"6\",\".\",\".\",\".\",\".\",\"2\",\"8\",\".\"],[\".\",\".\",\".\",\"4\",\"1\",\"9\",\".\",\".\",\"5\"],[\".\",\".\",\".\",\".\",\"8\",\".\",\".\",\"7\",\"9\"]]\n",
    "\n",
    "Solution().isValidSudoku(test_input)"
   ]
  }
 ],
 "metadata": {
  "language_info": {
   "name": "python"
  },
  "orig_nbformat": 4
 },
 "nbformat": 4,
 "nbformat_minor": 2
}
