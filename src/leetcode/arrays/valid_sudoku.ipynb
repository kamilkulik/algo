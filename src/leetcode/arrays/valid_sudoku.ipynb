{
 "cells": [
  {
   "cell_type": "code",
   "execution_count": 1,
   "metadata": {},
   "outputs": [
    {
     "data": {
      "text/plain": [
       "True"
      ]
     },
     "execution_count": 1,
     "metadata": {},
     "output_type": "execute_result"
    }
   ],
   "source": [
    "from typing import List\n",
    "\n",
    "# O(m*n) time | O(1) space\n",
    "class Solution:\n",
    "    def isValidSudoku(self, board: List[List[str]]) -> bool:\n",
    "        # row scan\n",
    "        for i in range(len(board)):\n",
    "            unique_nums = [0] * 10\n",
    "            for j, col in enumerate(board[i]):\n",
    "                if board[i][j] != \".\":\n",
    "                    if unique_nums[int(col)] != 0:\n",
    "                        return False\n",
    "                    else:\n",
    "                        unique_nums[int(col)] = 1\n",
    "        \n",
    "        # col scan\n",
    "        for i in range(len(board)):\n",
    "            unique_nums = [0] * 10\n",
    "            for j in range(len(board[i])):\n",
    "                if board[j][i] != \".\":\n",
    "                    if unique_nums[int(board[j][i])] != 0:\n",
    "                        return False\n",
    "                    else:\n",
    "                        unique_nums[int(board[j][i])] = 1\n",
    "                \n",
    "        # sub-box scan\n",
    "        subboxes = [0, 3, 6]\n",
    "        for hor_subbox in subboxes:\n",
    "            for ver_subbox in subboxes:\n",
    "                unique_nums = [0] * 10\n",
    "                for row in range(hor_subbox, hor_subbox + 3):\n",
    "                    for col in range(ver_subbox, ver_subbox + 3):\n",
    "                        if board[row][col] != \".\":\n",
    "                            if unique_nums[int(board[row][col])] != 0:\n",
    "                                return False\n",
    "                            else:\n",
    "                                unique_nums[int(board[row][col])] = 1\n",
    "                           \n",
    "        return True\n",
    "\n",
    "test_input = [[\"5\",\"3\",\".\",\".\",\"7\",\".\",\".\",\".\",\".\"],[\"6\",\".\",\".\",\"1\",\"9\",\"5\",\".\",\".\",\".\"],[\".\",\"9\",\"8\",\".\",\".\",\".\",\".\",\"6\",\".\"],[\"8\",\".\",\".\",\".\",\"6\",\".\",\".\",\".\",\"3\"],[\"4\",\".\",\".\",\"8\",\".\",\"3\",\".\",\".\",\"1\"],[\"7\",\".\",\".\",\".\",\"2\",\".\",\".\",\".\",\"6\"],[\".\",\"6\",\".\",\".\",\".\",\".\",\"2\",\"8\",\".\"],[\".\",\".\",\".\",\"4\",\"1\",\"9\",\".\",\".\",\"5\"],[\".\",\".\",\".\",\".\",\"8\",\".\",\".\",\"7\",\"9\"]]\n",
    "\n",
    "Solution().isValidSudoku(test_input)"
   ]
  },
  {
   "cell_type": "code",
   "execution_count": null,
   "metadata": {},
   "outputs": [],
   "source": [
    "# MORE OPTIMISED AND NEET SOLUTION\n",
    "\n",
    "from collections import defaultdict\n",
    "\n",
    "class Solution:\n",
    "    def isValidSudoku(self, board: List[List[str]]) -> bool:\n",
    "        rows = defaultdict(set)\n",
    "        cols = defaultdict(set)\n",
    "        squares = defaultdict(set)\n",
    "        \n",
    "        for r in range(9):\n",
    "            for c in range(9):\n",
    "                if board[r][c] == \".\":\n",
    "                    continue\n",
    "                if (board[r][c] in rows[r] or\n",
    "                   board[r][c] in cols[c] or \n",
    "                   board[r][c] in squares[(r //3, c //3)]):\n",
    "                    return False\n",
    "                cols[c].add(board[r][c])\n",
    "                rows[r].add(board[r][c])\n",
    "                squares[(r // 3, c // 3)].add(board[r][c])\n",
    "        return True"
   ]
  }
 ],
 "metadata": {
  "interpreter": {
   "hash": "aee8b7b246df8f9039afb4144a1f6fd8d2ca17a180786b69acc140d282b71a49"
  },
  "kernelspec": {
   "display_name": "Python 3.10.4 64-bit",
   "language": "python",
   "name": "python3"
  },
  "language_info": {
   "codemirror_mode": {
    "name": "ipython",
    "version": 3
   },
   "file_extension": ".py",
   "mimetype": "text/x-python",
   "name": "python",
   "nbconvert_exporter": "python",
   "pygments_lexer": "ipython3",
   "version": "3.10.4"
  },
  "orig_nbformat": 4
 },
 "nbformat": 4,
 "nbformat_minor": 2
}
