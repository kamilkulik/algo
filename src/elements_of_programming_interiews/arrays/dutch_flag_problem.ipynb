{
 "cells": [
  {
   "cell_type": "code",
   "execution_count": 3,
   "metadata": {},
   "outputs": [
    {
     "data": {
      "text/plain": [
       "[3, 1, 2, 1, 5, 5, 7, 8]"
      ]
     },
     "execution_count": 3,
     "metadata": {},
     "output_type": "execute_result"
    }
   ],
   "source": [
    "from typing import List\n",
    "\n",
    "def swap(i: int, j: int, array: List[int]):\n",
    "    array[i], array[j] = array[j], array[i]\n",
    "\n",
    "def sort_on_pivot(array: List[int], pivot_idx: int) -> List[int]:\n",
    "    pivot = array[pivot_idx]\n",
    "\n",
    "    # first pass, left of the pivot\n",
    "    for i in range(len(array)):\n",
    "        for j in range(i + 1, len(array)):\n",
    "            if array[j] < pivot:\n",
    "                swap(i, j, array)\n",
    "                break\n",
    "\n",
    "    for i in reversed(range(len(array))):\n",
    "        for j in reversed(range(i)):\n",
    "            if array[j] > pivot:\n",
    "                swap(i, j, array)\n",
    "                break\n",
    "    \n",
    "    return array\n",
    "    \n",
    "\n",
    "sort_on_pivot([5, 3, 1, 5, 2, 7, 8, 1], 3)"
   ]
  }
 ],
 "metadata": {
  "interpreter": {
   "hash": "aee8b7b246df8f9039afb4144a1f6fd8d2ca17a180786b69acc140d282b71a49"
  },
  "kernelspec": {
   "display_name": "Python 3.10.4 64-bit",
   "language": "python",
   "name": "python3"
  },
  "language_info": {
   "codemirror_mode": {
    "name": "ipython",
    "version": 3
   },
   "file_extension": ".py",
   "mimetype": "text/x-python",
   "name": "python",
   "nbconvert_exporter": "python",
   "pygments_lexer": "ipython3",
   "version": "3.10.4"
  },
  "orig_nbformat": 4
 },
 "nbformat": 4,
 "nbformat_minor": 2
}
