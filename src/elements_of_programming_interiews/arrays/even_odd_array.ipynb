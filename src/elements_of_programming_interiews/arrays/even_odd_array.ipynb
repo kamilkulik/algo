{
 "cells": [
  {
   "cell_type": "markdown",
   "metadata": {},
   "source": [
    "You're given an array of integers and you need to move all of the even ints to the beginning of the array in constant space."
   ]
  },
  {
   "cell_type": "code",
   "execution_count": 17,
   "metadata": {},
   "outputs": [
    {
     "data": {
      "text/plain": [
       "[6, 3, 3, 5, 5, 1]"
      ]
     },
     "execution_count": 17,
     "metadata": {},
     "output_type": "execute_result"
    }
   ],
   "source": [
    "# the idea for the solution is to split given array into 3 sections: even, odd, unclassified.\n",
    "# initially all ints in the array are unclassified and even and odd arrays are empty\n",
    "# as we move through the array we swap the elements to assign them to respective arrays\n",
    "from typing import List\n",
    "\n",
    "def swap(i: int, j: int, array: List[int]):\n",
    "    array[i], array[j] = array[j], array[i]\n",
    "\n",
    "def even_odd_swap(array: List[int]) -> List[int]:\n",
    "    if len(array) == 1 and array[0] % 2 != 0:\n",
    "        raise ValueError('The only element in array is odd')\n",
    "    if not len(array):\n",
    "        raise ValueError('Array is empty')\n",
    "    \n",
    "    next_even_idx = 0\n",
    "    for i in range(len(array)):\n",
    "        if array[i] % 2 == 0:\n",
    "            swap(i, next_even_idx, array)\n",
    "            next_even_idx += 1\n",
    "    return array\n",
    "\n",
    "even_odd_swap([1, 3, 3, 5, 5, 6])"
   ]
  },
  {
   "cell_type": "code",
   "execution_count": 20,
   "metadata": {},
   "outputs": [
    {
     "data": {
      "text/plain": [
       "[6, 2, 5, 5, 3, 1]"
      ]
     },
     "execution_count": 20,
     "metadata": {},
     "output_type": "execute_result"
    }
   ],
   "source": [
    "def even_odd_swap_opt(array: List[int]) -> List[int]:\n",
    "    next_even, next_odd = 0, len(array) - 1\n",
    "    while next_even < next_odd:\n",
    "        if array[next_even] % 2 == 0:\n",
    "            next_even += 1\n",
    "        else:\n",
    "            swap(next_even, next_odd, array)\n",
    "            next_odd -= 1\n",
    "    return array\n",
    "\n",
    "even_odd_swap_opt([1, 2, 3, 5, 5, 6])"
   ]
  }
 ],
 "metadata": {
  "interpreter": {
   "hash": "aee8b7b246df8f9039afb4144a1f6fd8d2ca17a180786b69acc140d282b71a49"
  },
  "kernelspec": {
   "display_name": "Python 3.10.4 64-bit",
   "language": "python",
   "name": "python3"
  },
  "language_info": {
   "codemirror_mode": {
    "name": "ipython",
    "version": 3
   },
   "file_extension": ".py",
   "mimetype": "text/x-python",
   "name": "python",
   "nbconvert_exporter": "python",
   "pygments_lexer": "ipython3",
   "version": "3.10.4"
  },
  "orig_nbformat": 4
 },
 "nbformat": 4,
 "nbformat_minor": 2
}
