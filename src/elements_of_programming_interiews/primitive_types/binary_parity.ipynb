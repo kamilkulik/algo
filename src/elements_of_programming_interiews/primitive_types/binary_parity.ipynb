{
 "cells": [
  {
   "cell_type": "markdown",
   "metadata": {},
   "source": [
    "PARITY of a binary word is 1 if the number of 1s in the word in odd. Parity is 0 if the number of 1s is even."
   ]
  },
  {
   "cell_type": "code",
   "execution_count": 16,
   "metadata": {},
   "outputs": [
    {
     "data": {
      "text/plain": [
       "0"
      ]
     },
     "execution_count": 16,
     "metadata": {},
     "output_type": "execute_result"
    }
   ],
   "source": [
    "# O(n) time | O(1) space\n",
    "def parity(x: int) -> int:\n",
    "    par = 0\n",
    "    while x:\n",
    "        par ^= x & 1\n",
    "        x >>= 1\n",
    "    return par\n",
    "\n",
    "\n",
    "parity(345667)"
   ]
  },
  {
   "cell_type": "code",
   "execution_count": 17,
   "metadata": {},
   "outputs": [
    {
     "data": {
      "text/plain": [
       "1"
      ]
     },
     "execution_count": 17,
     "metadata": {},
     "output_type": "execute_result"
    }
   ],
   "source": [
    "# O(k) time where k is the number of bits set to one in a particular word | O(1) space\n",
    "def parity_erase_set_bit(x: int) -> int:\n",
    "    result = 0\n",
    "    while x:\n",
    "        result ^= 1\n",
    "        x &= x - 1 # we're clearing the rightmost set bit x & (x - 1) == x with its lowest set bit erased\n",
    "    return result\n",
    "\n",
    "parity_erase_set_bit(31)"
   ]
  },
  {
   "cell_type": "code",
   "execution_count": null,
   "metadata": {},
   "outputs": [],
   "source": [
    "PRECOMPUTED_PARITY = {0: 0, 1: 1, 1: 2, 0: 2}\n",
    "def parity_masking(x: int) -> int:\n",
    "    mask_size = 16\n",
    "    bit_mask = 0xFFFF # dec: 65535, bin: 1111111111111111. Calculation: (FFFF)₁₆ = (15 × 16³) + (15 × 16²) + (15 × 16¹) + (15 × 16⁰) = (65535)₁₀\n",
    "    return (PRECOMPUTED_PARITY[x >> (3 * mask_size)] ^ \n",
    "        PRECOMPUTED_PARITY[(x >> (2 * mask_size)) & bit_mask] ^ \n",
    "        PRECOMPUTED_PARITY[(x >> mask_size) & bit_mask] ^ \n",
    "        PRECOMPUTED_PARITY[x & bit_mask])\n",
    "\n",
    "parity_masking(31)"
   ]
  },
  {
   "cell_type": "code",
   "execution_count": 18,
   "metadata": {},
   "outputs": [
    {
     "data": {
      "text/plain": [
       "0"
      ]
     },
     "execution_count": 18,
     "metadata": {},
     "output_type": "execute_result"
    }
   ],
   "source": [
    "# O(logn) time where n is the word size\n",
    "def parity_xor(x: int) -> int:\n",
    "    x ^= x >> 32 # 1000010 ^ 0 -> 1000010\n",
    "    x ^= x >> 16 # 1000010 ^ 0 -> 1000010\n",
    "    x ^= x >> 8 # 1000010 ^ 0 -> 1000010\n",
    "    x ^= x >> 4 # 1000010 ^ 0000100 -> 1000110 dec: 70\n",
    "    x ^= x >> 2 # 1000110 ^ 0010001 -> 1010111 dec: 87\n",
    "    x ^= x >> 1 # 1010111 ^ 0101011 -> 1111100 dec: 124\n",
    "    return x & 1 # 1111100 & 0000001\n",
    "\n",
    "parity_xor(345667)"
   ]
  }
 ],
 "metadata": {
  "interpreter": {
   "hash": "31f2aee4e71d21fbe5cf8b01ff0e069b9275f58929596ceb00d14d90e3e16cd6"
  },
  "kernelspec": {
   "display_name": "Python 3.8.9 64-bit",
   "language": "python",
   "name": "python3"
  },
  "language_info": {
   "codemirror_mode": {
    "name": "ipython",
    "version": 3
   },
   "file_extension": ".py",
   "mimetype": "text/x-python",
   "name": "python",
   "nbconvert_exporter": "python",
   "pygments_lexer": "ipython3",
   "version": "3.8.9"
  },
  "orig_nbformat": 4
 },
 "nbformat": 4,
 "nbformat_minor": 2
}
