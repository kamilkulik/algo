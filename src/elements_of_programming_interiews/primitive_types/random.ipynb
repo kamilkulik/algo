{
 "cells": [
  {
   "cell_type": "code",
   "execution_count": 86,
   "metadata": {},
   "outputs": [
    {
     "name": "stdout",
     "output_type": "stream",
     "text": [
      "Random between zero and n:  19\n",
      "Random number between a and b:  10\n",
      "Random between 0 to 1:  0.23964412758523368\n",
      "Shuffles a list:  ['C', 'A', 'B']\n",
      "Select random element from a list:  C\n"
     ]
    }
   ],
   "source": [
    "import random as rnd\n",
    "\n",
    "arr = [\"A\", \"B\", \"C\"]\n",
    "\n",
    "print(\"Random between zero and n: \", rnd.randrange(28))\n",
    "print(\"Random number between a and b: \", rnd.randint(8, 16))\n",
    "print(\"Random between 0 to 1: \", rnd.random())\n",
    "rnd.shuffle(arr)\n",
    "print(\"Shuffles a list: \", arr)\n",
    "print(\"Select random element from a list: \", rnd.choice(arr))"
   ]
  }
 ],
 "metadata": {
  "interpreter": {
   "hash": "31f2aee4e71d21fbe5cf8b01ff0e069b9275f58929596ceb00d14d90e3e16cd6"
  },
  "kernelspec": {
   "display_name": "Python 3.8.9 64-bit",
   "language": "python",
   "name": "python3"
  },
  "language_info": {
   "codemirror_mode": {
    "name": "ipython",
    "version": 3
   },
   "file_extension": ".py",
   "mimetype": "text/x-python",
   "name": "python",
   "nbconvert_exporter": "python",
   "pygments_lexer": "ipython3",
   "version": "3.8.9"
  },
  "orig_nbformat": 4
 },
 "nbformat": 4,
 "nbformat_minor": 2
}
