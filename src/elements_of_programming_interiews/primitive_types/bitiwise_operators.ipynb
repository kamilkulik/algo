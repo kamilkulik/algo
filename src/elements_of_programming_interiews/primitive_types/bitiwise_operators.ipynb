{
 "cells": [
  {
   "cell_type": "code",
   "execution_count": 1,
   "metadata": {},
   "outputs": [
    {
     "data": {
      "text/plain": [
       "3"
      ]
     },
     "execution_count": 1,
     "metadata": {},
     "output_type": "execute_result"
    }
   ],
   "source": [
    "# count 1s in a binary representation of a number\n",
    "\n",
    "def count_bits(x: int) -> int:\n",
    "    bit_num = 0\n",
    "    while x:\n",
    "        bit_num += x & 1\n",
    "        x >>= 1\n",
    "    return bit_num\n",
    "\n",
    "count_bits(14)"
   ]
  },
  {
   "cell_type": "code",
   "execution_count": 2,
   "metadata": {},
   "outputs": [
    {
     "data": {
      "text/plain": [
       "'-0b100'"
      ]
     },
     "execution_count": 2,
     "metadata": {},
     "output_type": "execute_result"
    }
   ],
   "source": [
    "# 16: 10000\n",
    "bin(-16>>2)"
   ]
  },
  {
   "cell_type": "code",
   "execution_count": 3,
   "metadata": {},
   "outputs": [
    {
     "data": {
      "text/plain": [
       "True"
      ]
     },
     "execution_count": 3,
     "metadata": {},
     "output_type": "execute_result"
    }
   ],
   "source": [
    "1<<10 == 2**10"
   ]
  },
  {
   "cell_type": "code",
   "execution_count": 4,
   "metadata": {},
   "outputs": [
    {
     "data": {
      "text/plain": [
       "31"
      ]
     },
     "execution_count": 4,
     "metadata": {},
     "output_type": "execute_result"
    }
   ],
   "source": [
    "# int:-31 -> bin: 1100000 -> ~bin: 0011111 -> int: 31\n",
    "# Python uses so-called complementary binaries to represent negative integers. \n",
    "# The first bit of a complementary binary is the sign (0: positive, 1: negative). All remaining bits encode the number. \n",
    "~(-32)"
   ]
  },
  {
   "cell_type": "code",
   "execution_count": 5,
   "metadata": {},
   "outputs": [
    {
     "data": {
      "text/plain": [
       "12"
      ]
     },
     "execution_count": 5,
     "metadata": {},
     "output_type": "execute_result"
    }
   ],
   "source": [
    "15^3"
   ]
  },
  {
   "cell_type": "code",
   "execution_count": 6,
   "metadata": {},
   "outputs": [
    {
     "data": {
      "text/plain": [
       "1"
      ]
     },
     "execution_count": 6,
     "metadata": {},
     "output_type": "execute_result"
    }
   ],
   "source": [
    "# XOR\n",
    "# Python’s bitwise XOR operator x ^ y performs logical XOR on each bit position on the binary representations of integers x and y. \n",
    "# Each output bit evaluates to 1 if and only if exactly one of the two input bits at the same position are 1\n",
    "# 15 = 1111, 14 = 1110\n",
    "15^14"
   ]
  },
  {
   "cell_type": "code",
   "execution_count": 7,
   "metadata": {},
   "outputs": [
    {
     "data": {
      "text/plain": [
       "True"
      ]
     },
     "execution_count": 7,
     "metadata": {},
     "output_type": "execute_result"
    }
   ],
   "source": [
    "# XOR vs OR\n",
    "15^0 == 15 | 14"
   ]
  },
  {
   "cell_type": "code",
   "execution_count": 9,
   "metadata": {},
   "outputs": [
    {
     "data": {
      "text/plain": [
       "16"
      ]
     },
     "execution_count": 9,
     "metadata": {},
     "output_type": "execute_result"
    }
   ],
   "source": [
    "# TURN OFF THE RIGHTMOST SET BIT\n",
    "# 21 -> 10101 => 10100 -> 20\n",
    "n = 21\n",
    "n & (n - 1)\n",
    "n = 24 # 11000\n",
    "n & (n - 1) # n - 1: 10011"
   ]
  },
  {
   "cell_type": "code",
   "execution_count": 11,
   "metadata": {},
   "outputs": [
    {
     "data": {
      "text/plain": [
       "True"
      ]
     },
     "execution_count": 11,
     "metadata": {},
     "output_type": "execute_result"
    }
   ],
   "source": [
    "# check if a positive integer is a power of 2 without a loop or branching\n",
    "def check_power_of_two(n: int) -> bool:\n",
    "    return (n & n - 1) == 0\n",
    "\n",
    "check_power_of_two(64)"
   ]
  },
  {
   "cell_type": "code",
   "execution_count": 14,
   "metadata": {},
   "outputs": [
    {
     "data": {
      "text/plain": [
       "3"
      ]
     },
     "execution_count": 14,
     "metadata": {},
     "output_type": "execute_result"
    }
   ],
   "source": [
    "# Find the position of the rightmost set bit\n",
    "def find_index_of_rightmost_bit(n: int) -> int:\n",
    "    n = n & n - 1 ^ n\n",
    "    pos = 0\n",
    "    while n > 0:\n",
    "        n >>= 1\n",
    "        pos += 1\n",
    "\n",
    "    return pos\n",
    "\n",
    "find_index_of_rightmost_bit(20)"
   ]
  },
  {
   "cell_type": "code",
   "execution_count": 16,
   "metadata": {},
   "outputs": [
    {
     "data": {
      "text/plain": [
       "6"
      ]
     },
     "execution_count": 16,
     "metadata": {},
     "output_type": "execute_result"
    }
   ],
   "source": [
    "# Find the position of the only set bit\n",
    "def find_idx_of_only_bit(n: int):\n",
    "    \n",
    "    if (n & (n - 1)) != 0:\n",
    "        return 'wrong input'\n",
    "    else:\n",
    "        pos = 0\n",
    "        while n > 0:\n",
    "            n >>= 1\n",
    "            pos += 1\n",
    "        return pos\n",
    "\n",
    "find_idx_of_only_bit(32)"
   ]
  }
 ],
 "metadata": {
  "interpreter": {
   "hash": "33be5a6592ff0e18b6588b627a6e2b14b7285c75cd5531fae273afbadc94534e"
  },
  "kernelspec": {
   "display_name": "Python 3.9.6 ('.venv': venv)",
   "language": "python",
   "name": "python3"
  },
  "language_info": {
   "codemirror_mode": {
    "name": "ipython",
    "version": 3
   },
   "file_extension": ".py",
   "mimetype": "text/x-python",
   "name": "python",
   "nbconvert_exporter": "python",
   "pygments_lexer": "ipython3",
   "version": "3.8.9"
  },
  "orig_nbformat": 4
 },
 "nbformat": 4,
 "nbformat_minor": 2
}
