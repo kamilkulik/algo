{
 "cells": [
  {
   "cell_type": "markdown",
   "metadata": {},
   "source": [
    "Right propagate the rightmost set bit in x e.g. turns 01010000 into 01011111 in O(1) time"
   ]
  },
  {
   "cell_type": "code",
   "execution_count": 6,
   "metadata": {},
   "outputs": [
    {
     "name": "stdout",
     "output_type": "stream",
     "text": [
      "95\n",
      "31\n",
      "0\n"
     ]
    }
   ],
   "source": [
    "# O(k) time where k is the position of the rightmost bit\n",
    "def propagate_rightmost_set_bit(x: int) -> int:\n",
    "    # unsetting rightmost set bit x & x - 1\n",
    "    # leaving rightmost set bit x & x - 1 ^ x\n",
    "    rightmost = x & x -1 ^ x\n",
    "    shifted = rightmost >> 1\n",
    "    while shifted >= 1:\n",
    "        x ^= shifted\n",
    "        shifted >>= 1\n",
    "    return x\n",
    "\n",
    "print(propagate_rightmost_set_bit(80)) # expected: 95\n",
    "print(propagate_rightmost_set_bit(31)) # expected: 31\n",
    "print(propagate_rightmost_set_bit(0)) # expected: 0"
   ]
  },
  {
   "cell_type": "code",
   "execution_count": 13,
   "metadata": {},
   "outputs": [
    {
     "name": "stdout",
     "output_type": "stream",
     "text": [
      "95\n",
      "85\n",
      "255\n",
      "31\n",
      "0\n"
     ]
    }
   ],
   "source": [
    "# O(1) time\n",
    "def propagate_rightmost_set_bit_2(x: int) -> int:\n",
    "    if x == 0: return 0\n",
    "    return (x & x -1 ^ x) -1 ^ x\n",
    "\n",
    "print(propagate_rightmost_set_bit_2(80)) # expected: 95\n",
    "print(propagate_rightmost_set_bit_2(85)) # 01010101 expected: 85\n",
    "print(propagate_rightmost_set_bit_2(128)) # 10000000 expected: 255\n",
    "print(propagate_rightmost_set_bit_2(31)) # expected: 31\n",
    "print(propagate_rightmost_set_bit_2(0)) # expected: 0"
   ]
  }
 ],
 "metadata": {
  "interpreter": {
   "hash": "aee8b7b246df8f9039afb4144a1f6fd8d2ca17a180786b69acc140d282b71a49"
  },
  "kernelspec": {
   "display_name": "Python 3.9.6 64-bit",
   "language": "python",
   "name": "python3"
  },
  "language_info": {
   "codemirror_mode": {
    "name": "ipython",
    "version": 3
   },
   "file_extension": ".py",
   "mimetype": "text/x-python",
   "name": "python",
   "nbconvert_exporter": "python",
   "pygments_lexer": "ipython3",
   "version": "3.10.4"
  },
  "orig_nbformat": 4
 },
 "nbformat": 4,
 "nbformat_minor": 2
}
