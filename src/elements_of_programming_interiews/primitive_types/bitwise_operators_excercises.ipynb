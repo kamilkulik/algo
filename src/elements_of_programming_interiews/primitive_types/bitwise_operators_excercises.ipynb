{
 "cells": [
  {
   "cell_type": "markdown",
   "metadata": {},
   "source": [
    "Right propagate the rightmost set bit in x e.g. turns 01010000 into 01011111 in O(1) time"
   ]
  },
  {
   "cell_type": "code",
   "execution_count": 6,
   "metadata": {},
   "outputs": [
    {
     "name": "stdout",
     "output_type": "stream",
     "text": [
      "95\n",
      "31\n",
      "0\n"
     ]
    }
   ],
   "source": [
    "# O(k) time where k is the position of the rightmost bit\n",
    "def propagate_rightmost_set_bit(x: int) -> int:\n",
    "    # unsetting rightmost set bit x & x - 1\n",
    "    # leaving rightmost set bit x & x - 1 ^ x\n",
    "    rightmost = x & x -1 ^ x\n",
    "    shifted = rightmost >> 1\n",
    "    while shifted >= 1:\n",
    "        x ^= shifted\n",
    "        shifted >>= 1\n",
    "    return x\n",
    "\n",
    "print(propagate_rightmost_set_bit(80)) # expected: 95\n",
    "print(propagate_rightmost_set_bit(31)) # expected: 31\n",
    "print(propagate_rightmost_set_bit(0)) # expected: 0"
   ]
  },
  {
   "cell_type": "code",
   "execution_count": 15,
   "metadata": {},
   "outputs": [
    {
     "name": "stdout",
     "output_type": "stream",
     "text": [
      "95\n",
      "85\n",
      "255\n",
      "31\n",
      "0\n",
      "1\n"
     ]
    }
   ],
   "source": [
    "# O(1) time\n",
    "def propagate_rightmost_set_bit_2(x: int) -> int:\n",
    "    if x == 0: return 0\n",
    "    return (x & x -1 ^ x) -1 ^ x\n",
    "\n",
    "print(propagate_rightmost_set_bit_2(80)) # expected: 95\n",
    "print(propagate_rightmost_set_bit_2(85)) # 01010101 expected: 85\n",
    "print(propagate_rightmost_set_bit_2(128)) # 10000000 expected: 255\n",
    "print(propagate_rightmost_set_bit_2(31)) # expected: 31\n",
    "print(propagate_rightmost_set_bit_2(0)) # expected: 0\n",
    "print(propagate_rightmost_set_bit_2(1)) # expected: 1"
   ]
  },
  {
   "cell_type": "markdown",
   "metadata": {},
   "source": [
    "Compute x mod (modulo) a power of two e.g. return 13 for 77 mod 64."
   ]
  },
  {
   "cell_type": "code",
   "execution_count": 22,
   "metadata": {},
   "outputs": [
    {
     "name": "stdout",
     "output_type": "stream",
     "text": [
      "13\n",
      "1\n",
      "5\n",
      "13\n"
     ]
    }
   ],
   "source": [
    "def compute_x_mod(x: int, mod: int) -> int:\n",
    "    # 01001101 mod 01000000 -> 00001101 | 77 % 64 = 13\n",
    "    # 01001101 mod 00000010 -> 00000001 | 77 % 2 = 1\n",
    "    # 01001101 mod 00001000 -> 00000101 | 77 % 8 = 5\n",
    "    # return all set bits in x to the right of mod bit\n",
    "    # if we turn off all set bits in x leftward of mod, we can then XOR that with mod to get the result\n",
    "    # if we set all bits to the right of mod to 1, and bitwise AND with x, we will get the result\n",
    "    # (x & x - 1 ^ x) - 1 -> (1000 & 1000 - 1 ^ 1000) - 1 -> 1000 - 1 => 0111\n",
    "    # FIRST \n",
    "    return x & (mod & mod - 1 ^ mod) - 1\n",
    "\n",
    "print(compute_x_mod(77, 64))\n",
    "print(compute_x_mod(77, 2))\n",
    "print(compute_x_mod(77, 8))\n",
    "print(compute_x_mod(77, 16))"
   ]
  },
  {
   "cell_type": "markdown",
   "metadata": {},
   "source": [
    "Test if x is a power of 2"
   ]
  },
  {
   "cell_type": "code",
   "execution_count": 23,
   "metadata": {},
   "outputs": [
    {
     "name": "stdout",
     "output_type": "stream",
     "text": [
      "True\n",
      "True\n",
      "False\n",
      "False\n"
     ]
    }
   ],
   "source": [
    "def test_for_power_of_two(x: int) -> bool:\n",
    "    return x & x - 1 == 0\n",
    "\n",
    "print(test_for_power_of_two(32))\n",
    "print(test_for_power_of_two(256))\n",
    "print(test_for_power_of_two(31))\n",
    "print(test_for_power_of_two(17))"
   ]
  }
 ],
 "metadata": {
  "interpreter": {
   "hash": "aee8b7b246df8f9039afb4144a1f6fd8d2ca17a180786b69acc140d282b71a49"
  },
  "kernelspec": {
   "display_name": "Python 3.9.6 64-bit",
   "language": "python",
   "name": "python3"
  },
  "language_info": {
   "codemirror_mode": {
    "name": "ipython",
    "version": 3
   },
   "file_extension": ".py",
   "mimetype": "text/x-python",
   "name": "python",
   "nbconvert_exporter": "python",
   "pygments_lexer": "ipython3",
   "version": "3.10.4"
  },
  "orig_nbformat": 4
 },
 "nbformat": 4,
 "nbformat_minor": 2
}
