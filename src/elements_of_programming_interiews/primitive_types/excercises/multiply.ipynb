{
 "cells": [
  {
   "cell_type": "markdown",
   "metadata": {},
   "source": [
    "Write a program that multiplies two nonnegative integers. The only operators you are allowed to use are:\n",
    "- assigment,\n",
    "- the bitwise operators >>, <<, &, |, ^, ~\n",
    "- equality checks and Boolean combinations thereof.\n",
    "You may use loops and functions you write yourself. These constrains imply, for example, that you cannot use increment and decrement, or test if x < y"
   ]
  },
  {
   "cell_type": "code",
   "execution_count": 3,
   "metadata": {},
   "outputs": [
    {
     "data": {
      "text/plain": [
       "36"
      ]
     },
     "execution_count": 3,
     "metadata": {},
     "output_type": "execute_result"
    }
   ],
   "source": [
    "# the idea is to initialize result to 0 and iterate through the bits of x, adding (2**k)y to the result if the kth bit of x is 1.\n",
    "# O(n) time where n is the number of bits needed to represent the operands.\n",
    "def add(x: int, y: int) -> int: # x = 101, y = 010\n",
    "    return x if y == 0 else add(x ^ y, (x & y) << 1) # else: add(101 ^ 010, (101 & 010) << 1) -> add(111, 0) -> 111\n",
    "    # 7 + 3 -> else: add(111 ^ 011, (111 & 011) << 1) -> add(100, 0110) -> else: add(100 ^ 0110, (100 & 110) << 1) -> add(010, 1000)\n",
    "    # else: add(010 ^ 1000, (010 & 1000) << 1) -> add(1010, 0) -> 10\n",
    "\n",
    "def multiply(x: int, y: int) -> int:\n",
    "    running_sum = 0\n",
    "    while x:\n",
    "        if x & 1:\n",
    "            running_sum = add(running_sum, y)\n",
    "        x, y = x >> 1, y << 1\n",
    "    return running_sum\n",
    "\n",
    "multiply(4, 9)"
   ]
  }
 ],
 "metadata": {
  "interpreter": {
   "hash": "aee8b7b246df8f9039afb4144a1f6fd8d2ca17a180786b69acc140d282b71a49"
  },
  "kernelspec": {
   "display_name": "Python 3.10.4 64-bit",
   "language": "python",
   "name": "python3"
  },
  "language_info": {
   "codemirror_mode": {
    "name": "ipython",
    "version": 3
   },
   "file_extension": ".py",
   "mimetype": "text/x-python",
   "name": "python",
   "nbconvert_exporter": "python",
   "pygments_lexer": "ipython3",
   "version": "3.10.4"
  },
  "orig_nbformat": 4
 },
 "nbformat": 4,
 "nbformat_minor": 2
}
