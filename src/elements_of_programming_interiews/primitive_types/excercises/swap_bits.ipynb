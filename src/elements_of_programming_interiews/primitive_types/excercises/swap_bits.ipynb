{
 "cells": [
  {
   "cell_type": "code",
   "execution_count": 14,
   "metadata": {},
   "outputs": [
    {
     "data": {
      "text/plain": [
       "11"
      ]
     },
     "execution_count": 14,
     "metadata": {},
     "output_type": "execute_result"
    }
   ],
   "source": [
    "# BRUTE FORCE APPROACH\n",
    "# use bitmasks to extract the ith and jth bits, saving them to local variables.\n",
    "# write saved jth bit ot index i and the saved ith bit to index j, using a combination of bitmasks and bitwise operations\n",
    "\n",
    "import math\n",
    "\n",
    "def swap_bits_brute_force(x: int, i: int, j: int) -> int:\n",
    "    i_mask = 1 << i\n",
    "    j_mask = 1 << j\n",
    "    ith_bit = 1 if (x & i_mask) > 0 else 0 # grab bit at position i\n",
    "    jth_bit = 1 if (x & j_mask) > 0 else 0 # grab bit at position j\n",
    "    x = x & ~i_mask | (jth_bit << i) # 1st unset bit at position i | 2nd OR with jth_bit in the right position\n",
    "    x = x & ~j_mask | (ith_bit << j) # 1st unset bit at position j | 2nd OR with ith_bit in the right position\n",
    "    return x\n",
    "\n",
    "swap_bits_brute_force(73, 1, 6)"
   ]
  }
 ],
 "metadata": {
  "interpreter": {
   "hash": "aee8b7b246df8f9039afb4144a1f6fd8d2ca17a180786b69acc140d282b71a49"
  },
  "kernelspec": {
   "display_name": "Python 3.9.6 64-bit",
   "language": "python",
   "name": "python3"
  },
  "language_info": {
   "codemirror_mode": {
    "name": "ipython",
    "version": 3
   },
   "file_extension": ".py",
   "mimetype": "text/x-python",
   "name": "python",
   "nbconvert_exporter": "python",
   "pygments_lexer": "ipython3",
   "version": "3.10.4"
  },
  "orig_nbformat": 4
 },
 "nbformat": 4,
 "nbformat_minor": 2
}
