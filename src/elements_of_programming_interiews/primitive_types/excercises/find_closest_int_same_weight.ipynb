{
 "cells": [
  {
   "cell_type": "markdown",
   "metadata": {},
   "source": [
    "Write a program which takes a nonnegative integer x and returns a number y which is not equal to x, but has the same weight as x and their difference, |y - x| is as small as possible. You can assume x is not 0, or all 1s. FOr example, if x = 6, you should return 5. You can assume the integer fits in 64 bits."
   ]
  },
  {
   "cell_type": "code",
   "execution_count": null,
   "metadata": {},
   "outputs": [],
   "source": []
  }
 ],
 "metadata": {
  "language_info": {
   "name": "python"
  },
  "orig_nbformat": 4
 },
 "nbformat": 4,
 "nbformat_minor": 2
}
