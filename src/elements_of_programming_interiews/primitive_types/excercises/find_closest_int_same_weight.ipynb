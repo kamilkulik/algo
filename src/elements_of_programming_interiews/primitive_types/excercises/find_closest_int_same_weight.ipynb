{
 "cells": [
  {
   "cell_type": "markdown",
   "metadata": {},
   "source": [
    "Write a program which takes a nonnegative integer x and returns a number y which is not equal to x, but has the same weight as x and their difference, |y - x| is as small as possible. You can assume x is not 0, or all 1s. FOr example, if x = 6, you should return 5. You can assume the integer fits in 64 bits."
   ]
  },
  {
   "cell_type": "code",
   "execution_count": 8,
   "metadata": {},
   "outputs": [
    {
     "data": {
      "text/plain": [
       "21"
      ]
     },
     "execution_count": 8,
     "metadata": {},
     "output_type": "execute_result"
    }
   ],
   "source": [
    "# O(1) time | O(1) space\n",
    "\n",
    "import math\n",
    "\n",
    "def same_weight_closest_int(x: int) -> int:\n",
    "    # the ides is to look at the LSB\n",
    "    LSB = x & x - 1 ^ x\n",
    "    if LSB == 1: # LSB is 1 i.e. in zero position\n",
    "        if x & x - 1 == 0: # x is a power of two\n",
    "            return 2 ** (int(math.log(x, 2)) - 1) # logx base 2 gives us to which power of 2 x was taken and we decrease it by 1\n",
    "        else:\n",
    "            # 10101 -> 10011\n",
    "            # 11001 -> 10101\n",
    "            # extract second LSB\n",
    "            y = x & x - 1 # 1st LSB unset\n",
    "            z = y & y - 1 # 2nd LSB unset\n",
    "            o = z | LSB # 10001\n",
    "            return o | 2 ** (int(math.log(y & y - 1 ^ y, 2)) - 1)\n",
    "    else:\n",
    "        return x & x - 1 | 2 ** (int(math.log(LSB, 2)) - 1)\n",
    "\n",
    "same_weight_closest_int(25)"
   ]
  }
 ],
 "metadata": {
  "interpreter": {
   "hash": "aee8b7b246df8f9039afb4144a1f6fd8d2ca17a180786b69acc140d282b71a49"
  },
  "kernelspec": {
   "display_name": "Python 3.10.4 64-bit",
   "language": "python",
   "name": "python3"
  },
  "language_info": {
   "codemirror_mode": {
    "name": "ipython",
    "version": 3
   },
   "file_extension": ".py",
   "mimetype": "text/x-python",
   "name": "python",
   "nbconvert_exporter": "python",
   "pygments_lexer": "ipython3",
   "version": "3.10.4"
  },
  "orig_nbformat": 4
 },
 "nbformat": 4,
 "nbformat_minor": 2
}
