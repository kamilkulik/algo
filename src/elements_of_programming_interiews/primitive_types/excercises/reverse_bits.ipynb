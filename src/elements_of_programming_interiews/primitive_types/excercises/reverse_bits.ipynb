{
 "cells": [
  {
   "cell_type": "markdown",
   "metadata": {},
   "source": [
    "Write a program that takes a 64-bit unsigned integer and returns the 64-bit unsigned integer consisting of the bits of the input in reverse order."
   ]
  },
  {
   "cell_type": "code",
   "execution_count": 18,
   "metadata": {},
   "outputs": [
    {
     "data": {
      "text/plain": [
       "64"
      ]
     },
     "execution_count": 18,
     "metadata": {},
     "output_type": "execute_result"
    }
   ],
   "source": [
    "import math\n",
    "\n",
    "# what is a 64-bit integer\n",
    "\n",
    "number = 2**64\n",
    "\n",
    "number >> 64 # 1\n",
    "# it is an integer that is using a max of 64 bits to store its value.\n",
    "\n",
    "# checking binary length of an integer\n",
    "int(math.log(number, 2))"
   ]
  },
  {
   "cell_type": "code",
   "execution_count": 29,
   "metadata": {},
   "outputs": [
    {
     "data": {
      "text/plain": [
       "32775"
      ]
     },
     "execution_count": 29,
     "metadata": {},
     "output_type": "execute_result"
    }
   ],
   "source": [
    "# BRUTE FORCE APPROACH\n",
    "# Iterate over the first 32 least significant bits of the input and swap them with corresponding most significant bits\n",
    "\n",
    "import math\n",
    "\n",
    "def swap_bits(x: int, i: int, j: int) -> int:\n",
    "    if (x >> i) & 1 != (x >> j) & 1: # bitwise SHIFT x and bitwise AND to see if they both don't equal 1 - bits are different\n",
    "        bit_mask = (1 << i) | (1 << j) # 1000010\n",
    "        x ^= bit_mask # 01001001 XOR 01000010 -> 00001011\n",
    "    return x\n",
    "\n",
    "def reverse_bits_brute_force(x: int) -> int:\n",
    "    # check how many bits there are in input to establish halfway point\n",
    "    len_of_x = int(math.log(x, 2))\n",
    "    for i in range(len_of_x // 2):\n",
    "        x = swap_bits(x, i, len_of_x - i)\n",
    "    return x\n",
    "\n",
    "# input bin: 1110000000000001, int: 57345\n",
    "# output bin: 1000000000000111, int: 32775\n",
    "\n",
    "reverse_bits_brute_force(57345)"
   ]
  },
  {
   "cell_type": "code",
   "execution_count": null,
   "metadata": {},
   "outputs": [],
   "source": [
    "PRECOMPUTED_REVERSE = {\n",
    "    15: 0, 14: 1, 13: 2, 12: 3, 11: 4, 10: 5, 9: 6, 8: 1, 7: 14, 6: 9, 5: 10, 4: 2, 3: 12, 2: 4, 1: 8, 0: 0\n",
    "}\n",
    "\n",
    "def reverse_bits(x: int) -> int:\n",
    "    bit_mask = 1111 # for 16 bits, we'd use 0xFFFF which is 16 ones 11111111111111111\n",
    "    mask_size = 4 # this determines how big a number we can reverse - mask_size of 4 gives us 16 bits\n",
    "    return (\n",
    "        PRECOMPUTED_REVERSE[x & bit_mask] << (3 * mask_size) | # 1110000000000001 & 1111 -> 0001 -> PRECOMPUTED_REVERSE[0001] << 12 -> 1000000000000000\n",
    "        PRECOMPUTED_REVERSE[x >> mask_size & bit_mask] << (2 * mask_size) | # 1110000000000001 >> 4 -> 0000111000000000 & 1111 << 8 \n",
    "        PRECOMPUTED_REVERSE[x >> 2 * mask_size & bit_mask] << (1 * mask_size) |\n",
    "        PRECOMPUTED_REVERSE[x >> 3 * mask_size & bit_mask]\n",
    "    )"
   ]
  }
 ],
 "metadata": {
  "interpreter": {
   "hash": "aee8b7b246df8f9039afb4144a1f6fd8d2ca17a180786b69acc140d282b71a49"
  },
  "kernelspec": {
   "display_name": "Python 3.10.4 64-bit",
   "language": "python",
   "name": "python3"
  },
  "language_info": {
   "codemirror_mode": {
    "name": "ipython",
    "version": 3
   },
   "file_extension": ".py",
   "mimetype": "text/x-python",
   "name": "python",
   "nbconvert_exporter": "python",
   "pygments_lexer": "ipython3",
   "version": "3.10.4"
  },
  "orig_nbformat": 4
 },
 "nbformat": 4,
 "nbformat_minor": 2
}
